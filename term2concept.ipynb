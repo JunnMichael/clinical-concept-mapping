{
 "cells": [
  {
   "cell_type": "code",
   "execution_count": 1,
   "id": "cb9ddf5d",
   "metadata": {},
   "outputs": [],
   "source": [
    "import pandas as pd\n",
    "import json\n",
    "from rapidfuzz import fuzz, process\n",
    "import urllib.request"
   ]
  },
  {
   "cell_type": "code",
   "execution_count": 2,
   "id": "ff75f1e7",
   "metadata": {},
   "outputs": [],
   "source": [
    "def get_json(url):\n",
    "    opener = urllib.request.build_opener()\n",
    "    opener.addheaders = [('Authorization', 'apikey token=' + apikey)]\n",
    "    return json.loads(opener.open(url).read())"
   ]
  },
  {
   "cell_type": "code",
   "execution_count": 3,
   "id": "278cf59e",
   "metadata": {},
   "outputs": [],
   "source": [
    "def get_concept(term):\n",
    "    print(term)\n",
    "    REST_URL = \"http://data.bioontology.org\"\n",
    "    \n",
    "    # Search NCBO BioPortal\n",
    "    res = get_json(REST_URL + \"/search?q=\" + term.replace(\"'s\",'%27s').replace(' ','%20') + parameters)[\"collection\"]\n",
    "    \n",
    "    syn = {}\n",
    "    for r in res:\n",
    "        pref_label = r.get('prefLabel')  # Gets preferred label\n",
    "        labels = r.get('synonym')  # Gets synonyms if available\n",
    "        code = r.get('@id').split('/')[-1]  # Gets concept code\n",
    "        syn[pref_label] = code\n",
    "        if labels is not None:\n",
    "            for label in labels:\n",
    "                syn[label] = code\n",
    "\n",
    "    # Checks similarity of each returned concept against the user-entered term\n",
    "    matches = process.extract(term, syn.keys(), scorer=fuzz.token_sort_ratio, limit=10)\n",
    "\n",
    "    d = {}\n",
    "    for m in matches:\n",
    "        concept_label = m[0]\n",
    "        concept_code = syn[m[0]]\n",
    "        score = m[1]\n",
    "        d.update({concept_label: [concept_code, score]})\n",
    "\n",
    "    # Convert results to dataframe\n",
    "    df = pd.DataFrame.from_dict(d, orient='index').reset_index()\n",
    "    df = df.rename(columns={'index': 'concept_name', 0: 'concept_code', 1: 'match_score'})\n",
    "    df['source_term'] = term\n",
    "    df = df[['source_term', 'concept_name', 'concept_code', 'match_score']]\n",
    "    df.columns = [col if col == 'source_term' else '{}_'.format(target) + col for col in df.columns]\n",
    "    \n",
    "    if df['{}_match_score'.format(target)].max() > 99:\n",
    "        # Returns one result if there is a complete match\n",
    "        df = df.nlargest(1, '{}_match_score'.format(target))\n",
    "\n",
    "    return df"
   ]
  },
  {
   "cell_type": "code",
   "execution_count": 4,
   "id": "249525e7",
   "metadata": {},
   "outputs": [],
   "source": [
    "def get_matches(term):\n",
    "                \n",
    "    print('Finding matches...')\n",
    "    all_matches = get_concept(term)\n",
    "    \n",
    "    return all_matches"
   ]
  },
  {
   "cell_type": "code",
   "execution_count": 5,
   "id": "ce509cab",
   "metadata": {},
   "outputs": [],
   "source": [
    "with open('bioportal_apikey.txt', 'r') as f:\n",
    "    apikey = f.read()"
   ]
  },
  {
   "cell_type": "code",
   "execution_count": 6,
   "id": "d5b548dc",
   "metadata": {},
   "outputs": [
    {
     "name": "stdout",
     "output_type": "stream",
     "text": [
      "Enter target vocabulary: snomedct\n"
     ]
    }
   ],
   "source": [
    "target = input('Enter target vocabulary: ').upper()\n",
    "parameters = \"&ontologies={}\".format(target) + \"&include=prefLabel,synonym\""
   ]
  },
  {
   "cell_type": "code",
   "execution_count": 7,
   "id": "547ebb85",
   "metadata": {},
   "outputs": [
    {
     "name": "stdout",
     "output_type": "stream",
     "text": [
      "Finding matches...\n",
      "hypertension\n"
     ]
    },
    {
     "data": {
      "text/html": [
       "<div>\n",
       "<style scoped>\n",
       "    .dataframe tbody tr th:only-of-type {\n",
       "        vertical-align: middle;\n",
       "    }\n",
       "\n",
       "    .dataframe tbody tr th {\n",
       "        vertical-align: top;\n",
       "    }\n",
       "\n",
       "    .dataframe thead th {\n",
       "        text-align: right;\n",
       "    }\n",
       "</style>\n",
       "<table border=\"1\" class=\"dataframe\">\n",
       "  <thead>\n",
       "    <tr style=\"text-align: right;\">\n",
       "      <th></th>\n",
       "      <th>source_term</th>\n",
       "      <th>SNOMEDCT_concept_name</th>\n",
       "      <th>SNOMEDCT_concept_code</th>\n",
       "      <th>SNOMEDCT_match_score</th>\n",
       "    </tr>\n",
       "  </thead>\n",
       "  <tbody>\n",
       "    <tr>\n",
       "      <th>0</th>\n",
       "      <td>hypertension</td>\n",
       "      <td>Hypertension</td>\n",
       "      <td>38341003</td>\n",
       "      <td>100.0</td>\n",
       "    </tr>\n",
       "  </tbody>\n",
       "</table>\n",
       "</div>"
      ],
      "text/plain": [
       "    source_term SNOMEDCT_concept_name SNOMEDCT_concept_code  \\\n",
       "0  hypertension          Hypertension              38341003   \n",
       "\n",
       "   SNOMEDCT_match_score  \n",
       "0                 100.0  "
      ]
     },
     "execution_count": 7,
     "metadata": {},
     "output_type": "execute_result"
    }
   ],
   "source": [
    "get_matches('hypertension')"
   ]
  },
  {
   "cell_type": "code",
   "execution_count": 8,
   "id": "5791032f",
   "metadata": {},
   "outputs": [
    {
     "name": "stdout",
     "output_type": "stream",
     "text": [
      "Finding matches...\n",
      "long qt interval\n"
     ]
    },
    {
     "data": {
      "text/html": [
       "<div>\n",
       "<style scoped>\n",
       "    .dataframe tbody tr th:only-of-type {\n",
       "        vertical-align: middle;\n",
       "    }\n",
       "\n",
       "    .dataframe tbody tr th {\n",
       "        vertical-align: top;\n",
       "    }\n",
       "\n",
       "    .dataframe thead th {\n",
       "        text-align: right;\n",
       "    }\n",
       "</style>\n",
       "<table border=\"1\" class=\"dataframe\">\n",
       "  <thead>\n",
       "    <tr style=\"text-align: right;\">\n",
       "      <th></th>\n",
       "      <th>source_term</th>\n",
       "      <th>SNOMEDCT_concept_name</th>\n",
       "      <th>SNOMEDCT_concept_code</th>\n",
       "      <th>SNOMEDCT_match_score</th>\n",
       "    </tr>\n",
       "  </thead>\n",
       "  <tbody>\n",
       "    <tr>\n",
       "      <th>0</th>\n",
       "      <td>long qt interval</td>\n",
       "      <td>Prolonged QT interval</td>\n",
       "      <td>111975006</td>\n",
       "      <td>86.486486</td>\n",
       "    </tr>\n",
       "    <tr>\n",
       "      <th>1</th>\n",
       "      <td>long qt interval</td>\n",
       "      <td>QT interval</td>\n",
       "      <td>81435004</td>\n",
       "      <td>81.481481</td>\n",
       "    </tr>\n",
       "    <tr>\n",
       "      <th>2</th>\n",
       "      <td>long qt interval</td>\n",
       "      <td>Prolonged TU interval</td>\n",
       "      <td>251214008</td>\n",
       "      <td>81.081081</td>\n",
       "    </tr>\n",
       "    <tr>\n",
       "      <th>3</th>\n",
       "      <td>long qt interval</td>\n",
       "      <td>Sloping PR interval</td>\n",
       "      <td>251255006</td>\n",
       "      <td>74.285714</td>\n",
       "    </tr>\n",
       "    <tr>\n",
       "      <th>4</th>\n",
       "      <td>long qt interval</td>\n",
       "      <td>ST interval</td>\n",
       "      <td>40602005</td>\n",
       "      <td>74.074074</td>\n",
       "    </tr>\n",
       "    <tr>\n",
       "      <th>5</th>\n",
       "      <td>long qt interval</td>\n",
       "      <td>TU interval</td>\n",
       "      <td>251213002</td>\n",
       "      <td>74.074074</td>\n",
       "    </tr>\n",
       "    <tr>\n",
       "      <th>6</th>\n",
       "      <td>long qt interval</td>\n",
       "      <td>Prolonged P-R interval</td>\n",
       "      <td>164947007</td>\n",
       "      <td>73.684211</td>\n",
       "    </tr>\n",
       "    <tr>\n",
       "      <th>7</th>\n",
       "      <td>long qt interval</td>\n",
       "      <td>QRS interval</td>\n",
       "      <td>39632005</td>\n",
       "      <td>71.428571</td>\n",
       "    </tr>\n",
       "    <tr>\n",
       "      <th>8</th>\n",
       "      <td>long qt interval</td>\n",
       "      <td>Prolonged QT interval (finding)</td>\n",
       "      <td>111975006</td>\n",
       "      <td>71.111111</td>\n",
       "    </tr>\n",
       "    <tr>\n",
       "      <th>9</th>\n",
       "      <td>long qt interval</td>\n",
       "      <td>Shortened ST interval</td>\n",
       "      <td>69318006</td>\n",
       "      <td>70.270270</td>\n",
       "    </tr>\n",
       "  </tbody>\n",
       "</table>\n",
       "</div>"
      ],
      "text/plain": [
       "        source_term            SNOMEDCT_concept_name SNOMEDCT_concept_code  \\\n",
       "0  long qt interval            Prolonged QT interval             111975006   \n",
       "1  long qt interval                      QT interval              81435004   \n",
       "2  long qt interval            Prolonged TU interval             251214008   \n",
       "3  long qt interval              Sloping PR interval             251255006   \n",
       "4  long qt interval                      ST interval              40602005   \n",
       "5  long qt interval                      TU interval             251213002   \n",
       "6  long qt interval           Prolonged P-R interval             164947007   \n",
       "7  long qt interval                     QRS interval              39632005   \n",
       "8  long qt interval  Prolonged QT interval (finding)             111975006   \n",
       "9  long qt interval            Shortened ST interval              69318006   \n",
       "\n",
       "   SNOMEDCT_match_score  \n",
       "0             86.486486  \n",
       "1             81.481481  \n",
       "2             81.081081  \n",
       "3             74.285714  \n",
       "4             74.074074  \n",
       "5             74.074074  \n",
       "6             73.684211  \n",
       "7             71.428571  \n",
       "8             71.111111  \n",
       "9             70.270270  "
      ]
     },
     "execution_count": 8,
     "metadata": {},
     "output_type": "execute_result"
    }
   ],
   "source": [
    "get_matches('long qt interval')"
   ]
  },
  {
   "cell_type": "code",
   "execution_count": null,
   "id": "dd318000",
   "metadata": {},
   "outputs": [],
   "source": []
  }
 ],
 "metadata": {
  "kernelspec": {
   "display_name": "Python 3 (ipykernel)",
   "language": "python",
   "name": "python3"
  },
  "language_info": {
   "codemirror_mode": {
    "name": "ipython",
    "version": 3
   },
   "file_extension": ".py",
   "mimetype": "text/x-python",
   "name": "python",
   "nbconvert_exporter": "python",
   "pygments_lexer": "ipython3",
   "version": "3.10.9"
  }
 },
 "nbformat": 4,
 "nbformat_minor": 5
}
